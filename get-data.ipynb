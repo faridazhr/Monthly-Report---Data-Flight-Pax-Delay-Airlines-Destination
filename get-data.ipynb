{
 "cells": [
  {
   "cell_type": "markdown",
   "metadata": {},
   "source": [
    "# Library"
   ]
  },
  {
   "cell_type": "code",
   "execution_count": 1,
   "metadata": {},
   "outputs": [],
   "source": [
    "import pandas as pd\n",
    "import numpy as np\n",
    "\n",
    "import requests"
   ]
  },
  {
   "cell_type": "markdown",
   "metadata": {},
   "source": [
    "# Function"
   ]
  },
  {
   "cell_type": "code",
   "execution_count": 2,
   "metadata": {},
   "outputs": [],
   "source": [
    "BASE_URL = 'https://your-url.com'  # Sample URL, replace with actual URL\n",
    "\n",
    "def get_login_token():\n",
    "    print('status: get login token')\n",
    "    url_login = f'{BASE_URL}/login'\n",
    "    credentials = {\n",
    "        \"username\": \"your_username\",  # Sample username\n",
    "        \"password\": \"your_password\"   # Sample password\n",
    "    }\n",
    "    response = requests.post(url_login, json=credentials)\n",
    "    print('status: success get login token')\n",
    "    return response.json().get('token')\n",
    "\n",
    "\n",
    "def get_flight_data(token, date):\n",
    "    url_flight = f'{BASE_URL}/flight'\n",
    "    print(f'status: collecting data {date}')\n",
    "\n",
    "    # Sample parameters (replace with actual parameters)\n",
    "    flight_params = {\n",
    "        \"first-param\": \"your_first_param\",  # Sample parameter\n",
    "        \"second-param\": \"your_second_param\"  # Sample parameter\n",
    "    }\n",
    "\n",
    "    headers = {'x-access-token': token}\n",
    "    response = requests.get(url_flight, headers=headers, json=flight_params)\n",
    "    return response.json().get('data', [])\n",
    "\n",
    "\n",
    "def prepare_dataframe_data(token, dates):\n",
    "    df_data = []\n",
    "\n",
    "    for date in dates:\n",
    "        flight_response = get_flight_data(token, date)\n",
    "        \n",
    "        for item in flight_response:\n",
    "            manifest_list = item.get('MANIFEST', [{}])  # Get MANIFEST list or a list with an empty dictionary\n",
    "            if manifest_list:  # Check if the list is not empty\n",
    "                manifest_data = manifest_list[0]  # Get the first dictionary from the MANIFEST list\n",
    "            else:\n",
    "                manifest_data = {'ADULT': 0, 'CARGO': 0, 'CHILD': 0, 'INFANT': 0}  # Fill with zeros\n",
    "\n",
    "            # Convert values in manifest_data to integers\n",
    "            manifest_data = {key: int(value) for key, value in manifest_data.items()}\n",
    "\n",
    "            item.pop('MANIFEST', None)  # Remove the MANIFEST key from the dictionary\n",
    "            item.update(manifest_data)   # Update dictionary with MANIFEST data\n",
    "            df_data.append(item)\n",
    "            \n",
    "    print('preparing dataframe data')         \n",
    "    return df_data\n",
    "\n",
    "\n",
    "def create_dataframe(df_data):\n",
    "    print('status: creating dataframe')\n",
    "    df = pd.DataFrame(df_data)\n",
    "    \n",
    "    # Convert 'MANIFEST' columns to integers\n",
    "    int_columns = ['CAPACITY','ADULT', 'CARGO', 'CHILD', 'INFANT']\n",
    "    # Replace infinity values with NaN first\n",
    "    df[int_columns] = df[int_columns].replace([np.inf, -np.inf], np.nan)\n",
    "\n",
    "    # Now, fill NaN values with 0\n",
    "    df[int_columns] = df[int_columns].fillna(0).astype(int)\n",
    "    # df[int_columns] = df[int_columns].astype(int)\n",
    "    \n",
    "    # Convert datetime columns to datetime format\n",
    "    date_columns = ['ACTUAL_TIME', 'DATE', 'SCHEDULED_TIME']\n",
    "    df[date_columns] = df[date_columns].apply(lambda col: pd.to_datetime(col, format='mixed', dayfirst=True, errors='coerce'))\n",
    "    \n",
    "    # Calculate 'total pax' column\n",
    "    df['TOTAL_PAX'] = df['ADULT'] + df['CHILD'] + df['INFANT']\n",
    "    return df"
   ]
  },
  {
   "cell_type": "markdown",
   "metadata": {},
   "source": [
    "# Get Data"
   ]
  },
  {
   "cell_type": "code",
   "execution_count": null,
   "metadata": {},
   "outputs": [],
   "source": [
    "start_date = '2023-10-01'\n",
    "end_date = '2023-10-31'\n",
    "\n",
    "dates = pd.date_range(start_date, end_date).strftime('%Y-%m-%d').tolist()\n",
    "\n",
    "token = get_login_token()\n",
    "df_data = prepare_dataframe_data(token, dates)\n",
    "df = create_dataframe(df_data)"
   ]
  },
  {
   "cell_type": "code",
   "execution_count": 6,
   "metadata": {},
   "outputs": [],
   "source": [
    "df.to_csv('data-oktober2023.csv')"
   ]
  }
 ],
 "metadata": {
  "kernelspec": {
   "display_name": "Python 3",
   "language": "python",
   "name": "python3"
  },
  "language_info": {
   "codemirror_mode": {
    "name": "ipython",
    "version": 3
   },
   "file_extension": ".py",
   "mimetype": "text/x-python",
   "name": "python",
   "nbconvert_exporter": "python",
   "pygments_lexer": "ipython3",
   "version": "3.11.3"
  },
  "orig_nbformat": 4
 },
 "nbformat": 4,
 "nbformat_minor": 2
}
